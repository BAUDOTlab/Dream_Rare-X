
Symptom frequencies from Orphanet:
- Obligate (100%) --> 5
- Very frequent (99-80%) --> 4 
- Frequent (79-30%) --> 3
- Occasional (29-5%) --> 2
- Very rare (<4-1%) --> 1
- 'Excluded (0%)
