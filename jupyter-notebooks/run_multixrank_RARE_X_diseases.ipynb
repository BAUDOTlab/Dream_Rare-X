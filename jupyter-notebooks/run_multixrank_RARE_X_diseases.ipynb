{
 "cells": [
  {
   "cell_type": "markdown",
   "metadata": {},
   "source": [
    "# Random Walk with Restart using MultiXrank\n",
    "\n",
    "This code runs MultiXrank on a network composed of 2 layers:\n",
    "- RARE-X diseases - patients - symtomes associations network\n",
    "- ORPHANET diseases - phenotypes associations network\n",
    "\n",
    "We use the 27 diseases from the RARE-X layer as seeds for the RWR"
   ]
  },
  {
   "cell_type": "code",
   "execution_count": 1,
   "metadata": {},
   "outputs": [],
   "source": [
    "import multixrank\n",
    "import pandas as pd\n",
    "import glob\n",
    "import os"
   ]
  },
  {
   "cell_type": "code",
   "execution_count": 2,
   "metadata": {},
   "outputs": [],
   "source": [
    "def create_seeds_file(diseases_names_files: str, path_to_seeds_files: str) -> None:\n",
    "    diseases = pd.read_csv(diseases_names_files, sep=\";\", header=0)\n",
    "    i = 0\n",
    "    j = 1\n",
    "    for index, row in diseases.iterrows():\n",
    "        seeds_file= path_to_seeds_files + \"/\" + f\"seeds_{j}.txt\"\n",
    "        seeds = pd.DataFrame(columns=[\"seed\"])\n",
    "        if row[1] == \"None\":\n",
    "            seeds._set_value(i, \"seed\", row[0])\n",
    "        else:\n",
    "            seeds._set_value(i, \"seed\", row[1])\n",
    "        seeds.to_csv(seeds_file, sep=\"\\t\", header=None, index=False)\n",
    "        i += 1\n",
    "        j += 1\n",
    "    return(j)\n",
    "\n",
    "seedNb = create_seeds_file(diseases_names_files=\"../Diseases_Rx_orpha_corres.csv\", path_to_seeds_files=\"../multixrank_RARE_X_diseases/seeds_files/\")    "
   ]
  },
  {
   "cell_type": "code",
   "execution_count": 3,
   "metadata": {},
   "outputs": [],
   "source": [
    "def create_config_files(path_to_config_files: str) -> None:\n",
    "    layers_1 = ['../network/multiplex/RARE_X/RARE_X_layer.tsv']\n",
    "    layers_2 = ['../network/multiplex/Orpha/Disease_Phenotype.tsv']\n",
    "    size = 1\n",
    "    for i in range(1, seedNb):\n",
    "        file = open(path_to_config_files + f'/config_{i}.yml', 'w')\n",
    "        r = 0.7\n",
    "        delta = 0\n",
    "        eta = [1, 0]\n",
    "        tau = [1]\n",
    "\n",
    "        file.write('seed:' + ' ' + path_to_config_files + f'../seeds_files/seeds_{i}.txt' + '\\n')\n",
    "        file.write('self_loops: 0' + '\\n')\n",
    "        file.write('r: ' + str(r) + '\\n')\n",
    "        temp = '{},'*size\n",
    "        part = '[' + temp.rstrip(',') +']'\n",
    "        file.write('eta: ' + str(eta) + '\\n')\n",
    "        file.write('lamb:' + '\\n')\n",
    "        file.write('    ' + '-' +  ' ' + '[' + str(1/2) + ',' + str(1/2) + ']' + '\\n')\n",
    "        file.write('    ' + '-' +  ' ' + '[' + str(1/2) + ',' + str(1/2) + ']' + '\\n')\n",
    "        file.write('multiplex:' + '\\n')\n",
    "        \n",
    "        file.write('    ' + 'Rare_X_layer' + ':' + '\\n' + '        ' + \\\n",
    "                        'layers:' + '\\n' + '            ')\n",
    "        file.write('-' +  ' ' + layers_1[0] + '\\n' + '        ')\n",
    "        \n",
    "        file.write('delta: {}'.format(str(delta)) + '\\n' + '        ' )\n",
    "        file.write('graph_type: ' + '[' + ('00, '*size).rstrip(', ') + ']' + '\\n' + '        ' )\n",
    "        file.write('tau: ' + str(tau) + '\\n')\n",
    "        \n",
    "        file.write('    ' + 'Orpha_layer' + ':' + '\\n' + '        ' + \\\n",
    "                        'layers:' + '\\n' + '            ')\n",
    "        file.write('-' + ' ' + layers_2[0] + '\\n' + '        ')\n",
    "        file.write('delta: {}'.format(str(delta)) + '\\n' + '        ' )\n",
    "        file.write('graph_type: ' + '[' + ('01, '*size).rstrip(', ') + ']' + '\\n' + '        ' )\n",
    "        file.write('tau: ' + str(tau) + '\\n')\n",
    "\n",
    "        file.write('bipartite:' + '\\n')\n",
    "        file.write(\"    \" +  \"../network/bipartite/bipartite_RARE_X_orpha_diseases.tsv: {'source': 'Rare_X_layer', 'target': 'Orpha_layer', graph_type: 00}\" + '\\n')\n",
    "        file.close\n",
    "\n",
    "create_config_files(path_to_config_files=\"../multixrank_RARE_X_diseases/config_files/\")"
   ]
  },
  {
   "cell_type": "code",
   "execution_count": 4,
   "metadata": {},
   "outputs": [],
   "source": [
    "for i in range(1, seedNb):\n",
    "    multixrank_obj = multixrank.Multixrank(config=f\"../multixrank_RARE_X_diseases/config_files/config_{i}.yml\", wdir=\"../multixrank_RARE_X_diseases/\")\n",
    "    ranking_df = multixrank_obj.random_walk_rank()\n",
    "    os.mkdir(f\"../multixrank_RARE_X_diseases/output_multixrank/output_{i}\")\n",
    "    multixrank_obj.write_ranking(ranking_df, path=f\"../multixrank_RARE_X_diseases/output_multixrank/output_{i}/\")"
   ]
  }
 ],
 "metadata": {
  "kernelspec": {
   "display_name": "Python 3",
   "language": "python",
   "name": "python3"
  },
  "language_info": {
   "codemirror_mode": {
    "name": "ipython",
    "version": 3
   },
   "file_extension": ".py",
   "mimetype": "text/x-python",
   "name": "python",
   "nbconvert_exporter": "python",
   "pygments_lexer": "ipython3",
   "version": "3.6.15"
  }
 },
 "nbformat": 4,
 "nbformat_minor": 2
}
