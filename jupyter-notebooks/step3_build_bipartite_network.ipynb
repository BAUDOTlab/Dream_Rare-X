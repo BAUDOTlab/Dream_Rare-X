{
 "cells": [
  {
   "cell_type": "markdown",
   "metadata": {},
   "source": [
    "# Bipartite network of Rare-X disease - Orphanet disease associations"
   ]
  },
  {
   "cell_type": "markdown",
   "metadata": {},
   "source": [
    "This code builds the bipartite network that allows connecting the **Rare-X layer** and the **Orphanet layer**. It contains 15 edges, connecting the 15 Rare-X diseases mapped to Orphanet diseases. The network is stored in file **`network/bipartite/bipartite_RARE_X_orpha_diseases.tsv`**."
   ]
  },
  {
   "cell_type": "code",
   "execution_count": 1,
   "metadata": {},
   "outputs": [],
   "source": [
    "import pandas as pd"
   ]
  },
  {
   "cell_type": "code",
   "execution_count": 2,
   "metadata": {},
   "outputs": [],
   "source": [
    "def build_mapping_dict(diseases_file: str, mapping_file: str) -> tuple[list, dict]:\n",
    "    \"\"\"Function that generates a mapping dictionary of the correspondances \n",
    "    between Rare-X diseases names and Orphanet diseases names.\n",
    "\n",
    "    Args:\n",
    "        diseases_file (str): the path to the file that stores the correspondances\n",
    "        between diseases names\n",
    "        mapping_file (str): the path to the file that recapitulates the mapping\n",
    "        betwen Orphanet diseases codes and Orphanet diseases names\n",
    "\n",
    "    Returns:\n",
    "        tuple[list, dict]: a list of diseases in the Rare-X layer, a mapping \n",
    "        dictionary with keys being the Rare-X disease names and the values \n",
    "        being the Orphanet disease names. \n",
    "    \"\"\"\n",
    "    diseases = pd.read_csv(diseases_file, sep=\";\", header=0)\n",
    "    mapping_data = pd.read_csv(mapping_file, sep=\"\\t\", header=None)\n",
    "    dico_diseases_code = dict()\n",
    "    mapping_dict = dict()\n",
    "    list_diseases_in_RARE_X_layer = list()\n",
    "    # create a dictionary of Orphanet diseases and their codes\n",
    "    for index, row in mapping_data.iterrows():\n",
    "        if str(row[1]) not in dico_diseases_code.keys():\n",
    "            dico_diseases_code[str(row[1])] = row[0]\n",
    "    # create a list of diseases present in the Rare-X network\n",
    "    for index, row in diseases.iterrows():\n",
    "        if row[1] == \"None\":\n",
    "            list_diseases_in_RARE_X_layer.append(row[0])\n",
    "        else:\n",
    "            list_diseases_in_RARE_X_layer.append(row[1])\n",
    "    # create a mapping dict with the Orphanet diseases present in\n",
    "    # the Rare-X network and their associated codes\n",
    "    for disease in list_diseases_in_RARE_X_layer: \n",
    "        if disease in dico_diseases_code.keys():\n",
    "            disease_name_mapped = dico_diseases_code[disease]\n",
    "            mapping_dict[disease] = disease_name_mapped\n",
    "    return list_diseases_in_RARE_X_layer, mapping_dict\n",
    "\n",
    "(list_diseases_in_RARE_X_layer, mapping_dict) = build_mapping_dict(diseases_file=\"../data/Diseases_Rx_orpha_corres.csv\", mapping_file=\"../data/OrphaDisease_HPO_extract.tsv\")"
   ]
  },
  {
   "cell_type": "code",
   "execution_count": 3,
   "metadata": {},
   "outputs": [
    {
     "name": "stdout",
     "output_type": "stream",
     "text": [
      "                                               source        target\n",
      "0                                   4H leukodystrophy  ORPHA:289494\n",
      "1           8p inverted duplication/deletion syndrome   ORPHA:96092\n",
      "2                 Alternating hemiplegia of childhood    ORPHA:2131\n",
      "3   Cognitive impairment-coarse facies-heart defec...  ORPHA:444077\n",
      "4                              Classic homocystinuria     ORPHA:394\n",
      "5     DYRK1A-related intellectual disability syndrome  ORPHA:464306\n",
      "6   Intellectual disability-severe speech delay-mi...  ORPHA:391372\n",
      "7   KDM5C-related syndromic X-linked intellectual ...   ORPHA:85279\n",
      "8                                  Kleefstra syndrome  ORPHA:261494\n",
      "9                            Koolen-De Vries syndrome   ORPHA:96169\n",
      "10                          Malan overgrowth syndrome  ORPHA:420179\n",
      "11                                     Ogden syndrome  ORPHA:276432\n",
      "12                                      Tetrasomy 12p     ORPHA:884\n",
      "13  SYNGAP1-related developmental and epileptic en...  ORPHA:544254\n",
      "14                         Wiedemann-Steiner syndrome  ORPHA:319182\n"
     ]
    }
   ],
   "source": [
    "def build_bipartite(list_diseases: list, mapping_dict: dict, bipartite_name: str) -> None:\n",
    "    \"\"\"Function that generates the bipartite network that recapitulates the mapping\n",
    "    between Rare-X diseases names and Orphanet diseases names\n",
    "\n",
    "    Args:\n",
    "        list_diseases (list): a list of diseases in the Rare-X layer = diseases to map\n",
    "        mapping_dict (dict): the mapping dicionary that recapitulates the mapping\n",
    "        of Rare-X disease names to Orphanet disease names\n",
    "        bipartite_name (str): path the network file to generate\n",
    "    \n",
    "    Returns: None\n",
    "    \"\"\"\n",
    "    bipartite = pd.DataFrame(columns=[\"source\", \"target\"])\n",
    "    i = 0\n",
    "    for disease in list_diseases:\n",
    "        if disease in mapping_dict.keys():\n",
    "            disease_orpha_code = mapping_dict[disease]\n",
    "            bipartite._set_value(i, \"source\", disease)\n",
    "            bipartite._set_value(i, \"target\", disease_orpha_code)\n",
    "            i += 1\n",
    "    print(bipartite)\n",
    "    bipartite.to_csv(bipartite_name, sep=\"\\t\", index=False, header=None)\n",
    "\n",
    "build_bipartite(list_diseases=list_diseases_in_RARE_X_layer, mapping_dict=mapping_dict, bipartite_name=\"../network/bipartite/bipartite_RARE_X_orpha_diseases.tsv\")"
   ]
  }
 ],
 "metadata": {
  "kernelspec": {
   "display_name": "Python 3 (ipykernel)",
   "language": "python",
   "name": "python3"
  },
  "language_info": {
   "codemirror_mode": {
    "name": "ipython",
    "version": 3
   },
   "file_extension": ".py",
   "mimetype": "text/x-python",
   "name": "python",
   "nbconvert_exporter": "python",
   "pygments_lexer": "ipython3",
   "version": "3.11.3"
  }
 },
 "nbformat": 4,
 "nbformat_minor": 2
}
