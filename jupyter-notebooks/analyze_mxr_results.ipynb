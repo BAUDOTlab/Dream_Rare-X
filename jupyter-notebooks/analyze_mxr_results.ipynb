{
 "cells": [
  {
   "cell_type": "markdown",
   "metadata": {},
   "source": [
    "# Analyze MultiXrank results"
   ]
  },
  {
   "cell_type": "code",
   "execution_count": 1,
   "metadata": {},
   "outputs": [],
   "source": [
    "import pandas as pd"
   ]
  },
  {
   "cell_type": "code",
   "execution_count": 5,
   "metadata": {},
   "outputs": [
    {
     "name": "stdout",
     "output_type": "stream",
     "text": [
      "                                       RARE-X  \\\n",
      "0                           4H Leukodystrophy   \n",
      "1                        8p-related disorders   \n",
      "2   AHC (Alternating Hemiplegia of Childhood)   \n",
      "3                   ARHGEF9-related disorders   \n",
      "4                   CACNA1A related disorders   \n",
      "5                      CASK-Related Disorders   \n",
      "6                    CHAMP1 related disorders   \n",
      "7                      CHD2 related disorders   \n",
      "8                              CHOPS Syndrome   \n",
      "9                      Classic homocystinuria   \n",
      "10                            DYRK1A Syndrome   \n",
      "11               FAM177A1 Associated Disorder   \n",
      "12                             FOXP1 Syndrome   \n",
      "13                    HUWE1-related disorders   \n",
      "14                    KDM5C-related disorders   \n",
      "15                         Kleefstra syndrome   \n",
      "16                   Koolen-de Vries Syndrome   \n",
      "17                             Malan Syndrome   \n",
      "18                    MSL3 -related disorders   \n",
      "19                     NARS1 genetic mutation   \n",
      "20                     Ogden Syndrome (NAA10)   \n",
      "21    Pallister-Killian mosaic syndrome (PKS)   \n",
      "22               Ring14 and related disorders   \n",
      "23                    SETBP1-related disorder   \n",
      "24                   STXBP1 related Disorders   \n",
      "25                  SYNGAP1 related disorders   \n",
      "26           Wiedemann-Steiner Syndrome (WSS)   \n",
      "\n",
      "                                             ORPHANET  SEED NUMBER  \n",
      "0                                   4H leukodystrophy            1  \n",
      "1           8p inverted duplication/deletion syndrome            2  \n",
      "2                 Alternating hemiplegia of childhood            3  \n",
      "3                                                None            4  \n",
      "4                                                None            5  \n",
      "5                                                None            6  \n",
      "6                                                None            7  \n",
      "7                                                None            8  \n",
      "8   Cognitive impairment-coarse facies-heart defec...            9  \n",
      "9                              Classic homocystinuria           10  \n",
      "10    DYRK1A-related intellectual disability syndrome           11  \n",
      "11                                               None           12  \n",
      "12  Intellectual disability-severe speech delay-mi...           13  \n",
      "13                                               None           14  \n",
      "14  KDM5C-related syndromic X-linked intellectual ...           15  \n",
      "15                                 Kleefstra syndrome           16  \n",
      "16                           Koolen-De Vries syndrome           17  \n",
      "17                          Malan overgrowth syndrome           18  \n",
      "18                                               None           19  \n",
      "19                                               None           20  \n",
      "20                                     Ogden syndrome           21  \n",
      "21                                      Tetrasomy 12p           22  \n",
      "22                                               None           23  \n",
      "23                                               None           24  \n",
      "24                                               None           25  \n",
      "25  SYNGAP1-related developmental and epileptic en...           26  \n",
      "26                         Wiedemann-Steiner syndrome           27  \n"
     ]
    }
   ],
   "source": [
    "def create_table_diseases_seeds(mapping_file: str, table_name: str) -> None:\n",
    "    df_mapping_file = pd.read_csv(mapping_file, sep=\";\", header=0)\n",
    "    df_table = pd.DataFrame(columns=[\"RARE-X\", \"ORPHANET\", \"SEED NUMBER\"])\n",
    "    df_table[\"RARE-X\"] = df_mapping_file[\"Rx\"]\n",
    "    df_table[\"ORPHANET\"] = df_mapping_file[\"Orphanet\"]\n",
    "    seed_numbers = [i for i in range(1, 28)]\n",
    "    df_table[\"SEED NUMBER\"] = seed_numbers\n",
    "    print(df_table)\n",
    "    df_table.to_csv(table_name, sep=\"\\t\", header=True, index=False)\n",
    "\n",
    "create_table_diseases_seeds(mapping_file=\"../Diseases_Rx_orpha_corres.csv\", table_name=\"../Diseases_names_and_seeds_numbering.tsv\")"
   ]
  }
 ],
 "metadata": {
  "kernelspec": {
   "display_name": "base",
   "language": "python",
   "name": "python3"
  },
  "language_info": {
   "codemirror_mode": {
    "name": "ipython",
    "version": 3
   },
   "file_extension": ".py",
   "mimetype": "text/x-python",
   "name": "python",
   "nbconvert_exporter": "python",
   "pygments_lexer": "ipython3",
   "version": "3.9.6"
  },
  "orig_nbformat": 4
 },
 "nbformat": 4,
 "nbformat_minor": 2
}
