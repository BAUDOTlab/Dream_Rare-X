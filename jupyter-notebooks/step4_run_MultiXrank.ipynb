{
 "cells": [
  {
   "cell_type": "markdown",
   "metadata": {},
   "source": [
    "# Random Walk with Restart using MultiXrank\n",
    "\n",
    "This code runs MultiXrank (https://github.com/anthbapt/multixrank) on a network composed of 2 layers:\n",
    "- RARE-X disease-patient-symtom associations network\n",
    "- ORPHANET disease-phenotype associations network\n",
    "\n",
    "We use the 27 diseases from the RARE-X layer as seeds for the RWR. Please note that only 15 of the 27 Rare-X diseases are mapped to Orphanet diseases (i.e., Orphacodes). These 15 diseases are used as bipartite connections between the two layers."
   ]
  },
  {
   "cell_type": "code",
   "execution_count": 1,
   "metadata": {},
   "outputs": [],
   "source": [
    "import multixrank\n",
    "import pandas as pd\n",
    "import glob\n",
    "import os"
   ]
  },
  {
   "cell_type": "markdown",
   "metadata": {},
   "source": [
    "First, we need to define the layers of our networks. We have several options for the Orphanet layer:\n",
    "* with or without disease-disease associations\n",
    "* with or without the full HP ontology\n",
    "\n",
    "Change `layer_2` according to the layer you want to use. Also change `outconfig`, `outseed` and `outdir` each time you want to try new parameters, to make sure to keep your previous results."
   ]
  },
  {
   "cell_type": "code",
   "execution_count": 2,
   "metadata": {},
   "outputs": [],
   "source": [
    "layer_1 = ['../network/multiplex/RARE_X/RARE_X_layer.tsv']\n",
    "layer_2 = ['../network/multiplex/Orpha/DiseaseDisease_Phenotype_InverseWeights.tsv']\n",
    "outconfig = 'config_files_DiseaseDisease_Phenotype_WeightedInverse'\n",
    "outseed = 'seed_files_DiseaseDisease_Phenotype_WeightedInverse'\n",
    "outdir = 'output_DiseaseDisease_Phenotype_WeightedInverse'"
   ]
  },
  {
   "cell_type": "markdown",
   "metadata": {},
   "source": [
    "To run MultiXrank, we need **seeds**. In our case, the seeds are the diseases contained in the Rare-X layer, that is 27 different diseases. MultiXrank will be run for each Rare-X disease taken as a seed. Below, we create the seed files that will be used in MultiXrank. These will be stored in folder **`multixrank_RARE_X_diseases/seeds_files/`**."
   ]
  },
  {
   "cell_type": "code",
   "execution_count": 3,
   "metadata": {},
   "outputs": [
    {
     "name": "stdout",
     "output_type": "stream",
     "text": [
      "28\n"
     ]
    }
   ],
   "source": [
    "def create_seeds_file(diseases_names_files: str, path_to_seeds_files: str) -> int:\n",
    "    \"\"\"Function that generates the seeds files used in MultiXrank\n",
    "\n",
    "    Args:\n",
    "        diseases_names_files (str): path to the file that recapitulates the diseases\n",
    "        found in the RARE-X network\n",
    "        path_to_seeds_files (str): path to the seeds files to generate\n",
    "    \"\"\"\n",
    "    # create the directory to store the seeds files\n",
    "    os.makedirs(path_to_seeds_files, exist_ok=True)\n",
    "    # extract diseases used as seeds = the 27 diseases in the RARE-X network\n",
    "    diseases = pd.read_csv(diseases_names_files, sep=\";\", header=0)\n",
    "    i = 0\n",
    "    j = 1\n",
    "    for index, row in diseases.iterrows():\n",
    "        seeds_file= path_to_seeds_files + \"/\" + f\"seeds_{j}.txt\"\n",
    "        seeds = pd.DataFrame(columns=[\"seed\"])\n",
    "        if row[1] == \"None\":\n",
    "            seeds._set_value(i, \"seed\", row[0])\n",
    "        else:\n",
    "            seeds._set_value(i, \"seed\", row[1])\n",
    "        seeds.to_csv(seeds_file, sep=\"\\t\", header=None, index=False)\n",
    "        i += 1\n",
    "        j += 1\n",
    "    return(j)\n",
    "\n",
    "seedNb = create_seeds_file(diseases_names_files=\"../data/Diseases_Rx_orpha_corres.csv\", path_to_seeds_files=f\"../multixrank_RARE_X_diseases/{outseed}/\")"
   ]
  },
  {
   "cell_type": "markdown",
   "metadata": {},
   "source": [
    "We also need configuration files, which contains the parameters to use when running MultiXrank. We store these in folder **`/multixrank_RARE_X_diseases/config_files/`**."
   ]
  },
  {
   "cell_type": "code",
   "execution_count": 4,
   "metadata": {},
   "outputs": [],
   "source": [
    "def create_config_files(path_to_config_files: str, path_to_seed_files: str, layers_1: list, layers_2: list) -> None:\n",
    "    \"\"\"Function that generates the configurations files required to run MultiXrank\n",
    "\n",
    "    Args:\n",
    "        path_to_config_files (str): path to the folder where configuration files will be stored\n",
    "        path_to_seed_files (str): path to the folder where seeds files are stored\n",
    "        layers_1 (list): path to the network layer 1\n",
    "        layers_2 (list): path to the network layer 2\n",
    "    \"\"\"\n",
    "    os.makedirs(path_to_config_files, exist_ok=True)\n",
    "    size = 1\n",
    "    for i in range(1, seedNb):\n",
    "        file = open(path_to_config_files + f'/config_{i}.yml', 'w')\n",
    "        r = 0.7\n",
    "        delta = 0\n",
    "        eta = [1, 0]\n",
    "        tau = [1]\n",
    "\n",
    "        file.write('seed:' + ' ' + path_to_seed_files + f'/seeds_{i}.txt' + '\\n')\n",
    "        file.write('self_loops: 0' + '\\n')\n",
    "        file.write('r: ' + str(r) + '\\n')\n",
    "        temp = '{},'*size\n",
    "        part = '[' + temp.rstrip(',') +']'\n",
    "        file.write('eta: ' + str(eta) + '\\n')\n",
    "        file.write('lamb:' + '\\n')\n",
    "        file.write('    ' + '-' +  ' ' + '[' + str(1/2) + ',' + str(1/2) + ']' + '\\n')\n",
    "        file.write('    ' + '-' +  ' ' + '[' + str(1/2) + ',' + str(1/2) + ']' + '\\n')\n",
    "        file.write('multiplex:' + '\\n')\n",
    "        \n",
    "        file.write('    ' + 'Rare_X_layer' + ':' + '\\n' + '        ' + \\\n",
    "                        'layers:' + '\\n' + '            ')\n",
    "        file.write('-' +  ' ' + layers_1[0] + '\\n' + '        ')\n",
    "        \n",
    "        file.write('delta: {}'.format(str(delta)) + '\\n' + '        ' )\n",
    "        file.write('graph_type: ' + '[' + ('00, '*size).rstrip(', ') + ']' + '\\n' + '        ' )\n",
    "        file.write('tau: ' + str(tau) + '\\n')\n",
    "        \n",
    "        file.write('    ' + 'Orpha_layer' + ':' + '\\n' + '        ' + \\\n",
    "                        'layers:' + '\\n' + '            ')\n",
    "        file.write('-' + ' ' + layers_2[0] + '\\n' + '        ')\n",
    "        file.write('delta: {}'.format(str(delta)) + '\\n' + '        ' )\n",
    "        file.write('graph_type: ' + '[' + ('01, '*size).rstrip(', ') + ']' + '\\n' + '        ' )\n",
    "        file.write('tau: ' + str(tau) + '\\n')\n",
    "\n",
    "        file.write('bipartite:' + '\\n')\n",
    "        file.write(\"    \" +  \"../network/bipartite/bipartite_RARE_X_orpha_diseases.tsv: {'source': 'Rare_X_layer', 'target': 'Orpha_layer', graph_type: 00}\" + '\\n')\n",
    "        file.close\n",
    "\n",
    "create_config_files(path_to_config_files=f\"../multixrank_RARE_X_diseases/{outconfig}\",\n",
    "                    path_to_seed_files=f\"{outseed}\",\n",
    "                    layers_1=layer_1, layers_2=layer_2)"
   ]
  },
  {
   "cell_type": "markdown",
   "metadata": {},
   "source": [
    "Now that we have seed files and configuration files, we can run MultiXrank. The results are stored in folder **`multixrank_RARE_X_diseases/output_multixrank`**."
   ]
  },
  {
   "cell_type": "code",
   "execution_count": 5,
   "metadata": {
    "scrolled": true
   },
   "outputs": [
    {
     "name": "stderr",
     "output_type": "stream",
     "text": [
      "2023-08-08 11:42:36,079 :: ERROR :: multixrank :: This path does not exist: ../multixrank_RARE_X_diseases/../network/multiplex/Orpha/DiseaseDisease_Phenotype_InverseWeights.tsv\n"
     ]
    },
    {
     "ename": "SystemExit",
     "evalue": "1",
     "output_type": "error",
     "traceback": [
      "An exception has occurred, use %tb to see the full traceback.\n",
      "\u001b[0;31mSystemExit\u001b[0m\u001b[0;31m:\u001b[0m 1\n"
     ]
    },
    {
     "name": "stderr",
     "output_type": "stream",
     "text": [
      "/Users/cecilebeust/miniconda3/lib/python3.9/site-packages/IPython/core/interactiveshell.py:3452: UserWarning: To exit: use 'exit', 'quit', or Ctrl-D.\n",
      "  warn(\"To exit: use 'exit', 'quit', or Ctrl-D.\", stacklevel=1)\n"
     ]
    }
   ],
   "source": [
    "for i in range(1, seedNb):\n",
    "    multixrank_obj = multixrank.Multixrank(config=f\"../multixrank_RARE_X_diseases/{outconfig}/config_{i}.yml\", wdir=\"../multixrank_RARE_X_diseases/\")\n",
    "    ranking_df = multixrank_obj.random_walk_rank()\n",
    "    os.makedirs(f\"../multixrank_RARE_X_diseases/{outdir}/output_{i}\", exist_ok=True)\n",
    "    multixrank_obj.write_ranking(ranking_df, path=f\"../multixrank_RARE_X_diseases/{outdir}/output_{i}/\")"
   ]
  }
 ],
 "metadata": {
  "kernelspec": {
   "display_name": "Python 3 (ipykernel)",
   "language": "python",
   "name": "python3"
  },
  "language_info": {
   "codemirror_mode": {
    "name": "ipython",
    "version": 3
   },
   "file_extension": ".py",
   "mimetype": "text/x-python",
   "name": "python",
   "nbconvert_exporter": "python",
   "pygments_lexer": "ipython3",
   "version": "3.9.6"
  }
 },
 "nbformat": 4,
 "nbformat_minor": 2
}
