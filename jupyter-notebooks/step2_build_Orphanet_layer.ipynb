{
 "cells": [
  {
   "cell_type": "markdown",
   "id": "ca60b192",
   "metadata": {},
   "source": [
    "# Build the Orphanet/HPO layer"
   ]
  },
  {
   "cell_type": "markdown",
   "id": "997f4b2a",
   "metadata": {},
   "source": [
    "The following code extract informations from the Orphanet and Human Phenotype Ontology databases:\n",
    "* **disease-phenotype** associations from Orphanet (weighted according to their reported frequency in Oprhanet)\n",
    "* **disease-disease** associations from Orphanet (diseases sharing a common causal gene)\n",
    "* **phenotype-phenotype** associations from HPO\n",
    "\n",
    "Various monoplex networks are built based on combinations of those three types of associatons:\n",
    "* a monoplex network with disease-phenotype associations: **`network/multiplex/Orpha/Disease_Phenotype.tsv`**\n",
    "* a monoplex network with disease-phenotype and phenotype-phenotype associations: **`network/multiplex/Orpha/Disease_PhenotypeOntology.tsv`**\n",
    "* a monoplex network with disease-phenotype and disease-disease associations: **`network/multiplex/Orpha/DiseaseDisease_Phenotype.tsv`**\n",
    "* a monoplex network with disease-phenotype, phenotype-phenotype and disease-disease associations: **`network/multiplex/Orpha/DiseaseDisease_PhenotypeOntology.tsv`**\n",
    "\n",
    "All ids are explicited in files:\n",
    "* **`data/OrphaDisease_HPO_extract.tsv`** contains OrphaCode, disease name, HPO ids and HPO terms \n",
    "* **`data/hpo_terms.tsv`** contains all HPO ids and terms\n"
   ]
  },
  {
   "cell_type": "markdown",
   "id": "00784a14",
   "metadata": {},
   "source": [
    "## 1) Build disease-phenotype network from Orphanet Data"
   ]
  },
  {
   "cell_type": "markdown",
   "id": "19a3b2d0",
   "metadata": {},
   "source": [
    "To get data from Orphanet: https://www.orphadata.com/data/xml/en_product4.xml"
   ]
  },
  {
   "cell_type": "code",
   "execution_count": 54,
   "id": "5ce4c602",
   "metadata": {},
   "outputs": [],
   "source": [
    "import xml.etree.ElementTree as ET\n",
    "import csv"
   ]
  },
  {
   "cell_type": "code",
   "execution_count": 55,
   "id": "8a21c4bb",
   "metadata": {},
   "outputs": [],
   "source": [
    "tree = ET.parse(\"../data/en_product4.xml\")\n",
    "root = tree.getroot()"
   ]
  },
  {
   "cell_type": "code",
   "execution_count": 56,
   "id": "4bc1307c",
   "metadata": {},
   "outputs": [],
   "source": [
    "# Create TSV file to store the extracted data\n",
    "info_file = open('../data/OrphaDisease_HPO_extract.tsv', 'w', newline='')\n",
    "info_writer = csv.writer(info_file, delimiter ='\\t')\n",
    "\n",
    "# Create the network file for MultiXrank\n",
    "net_file = open('../network/multiplex/Orpha/Disease_Phenotype.tsv', 'w', newline='')\n",
    "net_writer = csv.writer(net_file, delimiter ='\\t')\n",
    "\n",
    "# Iterate over disorders and HPOs\n",
    "for disorder in root.iter('Disorder'):\n",
    "    orpha_code = \"ORPHA:\"+disorder.find('OrphaCode').text\n",
    "    orpha_name = disorder.find('Name').text\n",
    "    for hpo, freq in zip(disorder.iter(\"HPO\"), disorder.iter(\"HPOFrequency\")):\n",
    "        hpo_id = hpo.find(\"HPOId\").text\n",
    "        hpo_term = hpo.find(\"HPOTerm\").text\n",
    "        hpo_freq_name = freq.find(\"Name\").text\n",
    "        if hpo_freq_name == \"Obligate (100%)\":\n",
    "            hpo_freq = 1\n",
    "        elif hpo_freq_name == \"Very frequent (99-80%)\":\n",
    "            hpo_freq = 4/5\n",
    "        elif hpo_freq_name == \"Frequent (79-30%)\":\n",
    "            hpo_freq = 3/5\n",
    "        elif hpo_freq_name == \"Occasional (29-5%)\":\n",
    "            hpo_freq = 2/5\n",
    "        elif hpo_freq_name == \"Very rare (<4-1%)\":\n",
    "            hpo_freq = 1/5\n",
    "        elif hpo_freq_name == \"Excluded (0%)\":\n",
    "            hpo_freq = 0\n",
    "        info_writer.writerow([orpha_code, orpha_name, hpo_id, hpo_term, hpo_freq])\n",
    "        net_writer.writerow([orpha_code, hpo_id, hpo_freq])\n",
    "\n",
    "# Close files\n",
    "info_file.close()\n",
    "net_file.close()"
   ]
  },
  {
   "cell_type": "markdown",
   "id": "bc247d57",
   "metadata": {},
   "source": [
    "## 2) Add HP ontology"
   ]
  },
  {
   "cell_type": "markdown",
   "id": "598cf84c",
   "metadata": {},
   "source": [
    "Create a new tsv file containing previously extracted Disease-HPO associations AND the full HP ontology."
   ]
  },
  {
   "cell_type": "markdown",
   "id": "9ff9ccd6",
   "metadata": {},
   "source": [
    "Download HPO data in obo format from https://hpo.jax.org/app/data/ontology"
   ]
  },
  {
   "cell_type": "code",
   "execution_count": 57,
   "id": "5c379222",
   "metadata": {},
   "outputs": [],
   "source": [
    "import obonet\n",
    "import networkx\n",
    "import pandas as pd"
   ]
  },
  {
   "cell_type": "code",
   "execution_count": 58,
   "id": "51e344cc",
   "metadata": {
    "scrolled": true
   },
   "outputs": [
    {
     "data": {
      "text/html": [
       "<div>\n",
       "<style scoped>\n",
       "    .dataframe tbody tr th:only-of-type {\n",
       "        vertical-align: middle;\n",
       "    }\n",
       "\n",
       "    .dataframe tbody tr th {\n",
       "        vertical-align: top;\n",
       "    }\n",
       "\n",
       "    .dataframe thead th {\n",
       "        text-align: right;\n",
       "    }\n",
       "</style>\n",
       "<table border=\"1\" class=\"dataframe\">\n",
       "  <thead>\n",
       "    <tr style=\"text-align: right;\">\n",
       "      <th></th>\n",
       "      <th>0</th>\n",
       "      <th>1</th>\n",
       "      <th>2</th>\n",
       "    </tr>\n",
       "  </thead>\n",
       "  <tbody>\n",
       "    <tr>\n",
       "      <th>0</th>\n",
       "      <td>ORPHA:58</td>\n",
       "      <td>HP:0000256</td>\n",
       "      <td>0.8</td>\n",
       "    </tr>\n",
       "    <tr>\n",
       "      <th>1</th>\n",
       "      <td>ORPHA:58</td>\n",
       "      <td>HP:0001249</td>\n",
       "      <td>0.8</td>\n",
       "    </tr>\n",
       "    <tr>\n",
       "      <th>2</th>\n",
       "      <td>ORPHA:58</td>\n",
       "      <td>HP:0001250</td>\n",
       "      <td>0.8</td>\n",
       "    </tr>\n",
       "    <tr>\n",
       "      <th>3</th>\n",
       "      <td>ORPHA:58</td>\n",
       "      <td>HP:0001257</td>\n",
       "      <td>0.8</td>\n",
       "    </tr>\n",
       "    <tr>\n",
       "      <th>4</th>\n",
       "      <td>ORPHA:58</td>\n",
       "      <td>HP:0001274</td>\n",
       "      <td>0.8</td>\n",
       "    </tr>\n",
       "    <tr>\n",
       "      <th>...</th>\n",
       "      <td>...</td>\n",
       "      <td>...</td>\n",
       "      <td>...</td>\n",
       "    </tr>\n",
       "    <tr>\n",
       "      <th>111760</th>\n",
       "      <td>ORPHA:397596</td>\n",
       "      <td>HP:0011110</td>\n",
       "      <td>0.4</td>\n",
       "    </tr>\n",
       "    <tr>\n",
       "      <th>111761</th>\n",
       "      <td>ORPHA:397596</td>\n",
       "      <td>HP:0012758</td>\n",
       "      <td>0.4</td>\n",
       "    </tr>\n",
       "    <tr>\n",
       "      <th>111762</th>\n",
       "      <td>ORPHA:397596</td>\n",
       "      <td>HP:0031692</td>\n",
       "      <td>0.4</td>\n",
       "    </tr>\n",
       "    <tr>\n",
       "      <th>111763</th>\n",
       "      <td>ORPHA:397596</td>\n",
       "      <td>HP:0031693</td>\n",
       "      <td>0.4</td>\n",
       "    </tr>\n",
       "    <tr>\n",
       "      <th>111764</th>\n",
       "      <td>ORPHA:397596</td>\n",
       "      <td>HP:0032170</td>\n",
       "      <td>0.4</td>\n",
       "    </tr>\n",
       "  </tbody>\n",
       "</table>\n",
       "<p>111765 rows × 3 columns</p>\n",
       "</div>"
      ],
      "text/plain": [
       "                   0           1    2\n",
       "0           ORPHA:58  HP:0000256  0.8\n",
       "1           ORPHA:58  HP:0001249  0.8\n",
       "2           ORPHA:58  HP:0001250  0.8\n",
       "3           ORPHA:58  HP:0001257  0.8\n",
       "4           ORPHA:58  HP:0001274  0.8\n",
       "...              ...         ...  ...\n",
       "111760  ORPHA:397596  HP:0011110  0.4\n",
       "111761  ORPHA:397596  HP:0012758  0.4\n",
       "111762  ORPHA:397596  HP:0031692  0.4\n",
       "111763  ORPHA:397596  HP:0031693  0.4\n",
       "111764  ORPHA:397596  HP:0032170  0.4\n",
       "\n",
       "[111765 rows x 3 columns]"
      ]
     },
     "execution_count": 58,
     "metadata": {},
     "output_type": "execute_result"
    }
   ],
   "source": [
    "# Read previously computed Disease-HPO monoplex\n",
    "dis_hpo_net = pd.read_csv('../network/multiplex/Orpha/Disease_Phenotype.tsv', sep = '\\t', header=None)\n",
    "dis_hpo_net"
   ]
  },
  {
   "cell_type": "markdown",
   "id": "4b6d7735",
   "metadata": {},
   "source": [
    "Load the HPO ontology, append it to `dis_hpo_net`, and store in **`network/multiplex/Orpha/Disease_PhenotypeOntology.tsv`**"
   ]
  },
  {
   "cell_type": "code",
   "execution_count": 59,
   "id": "e5c5c57b",
   "metadata": {},
   "outputs": [
    {
     "name": "stdout",
     "output_type": "stream",
     "text": [
      "                0           1    2\n",
      "0        ORPHA:58  HP:0000256  0.8\n",
      "1        ORPHA:58  HP:0001249  0.8\n",
      "2        ORPHA:58  HP:0001250  0.8\n",
      "3        ORPHA:58  HP:0001257  0.8\n",
      "4        ORPHA:58  HP:0001274  0.8\n",
      "...           ...         ...  ...\n",
      "21551  HP:5201010  HP:0000204  1.0\n",
      "21552  HP:5201011  HP:0100336  1.0\n",
      "21553  HP:5201012  HP:0100336  1.0\n",
      "21554  HP:5201013  HP:0100336  1.0\n",
      "21555  HP:5201014  HP:0100336  1.0\n",
      "\n",
      "[133321 rows x 3 columns]\n"
     ]
    }
   ],
   "source": [
    "# Read obo file\n",
    "graph = obonet.read_obo(\"../data/hp.obo\")\n",
    "\n",
    "# Extract edges\n",
    "ontology = networkx.to_pandas_edgelist(graph)\n",
    "\n",
    "# Add a weight column (all set to 1)\n",
    "ontology[\"weight\"] = 1\n",
    "ontology.columns = [0,1,2]\n",
    "\n",
    "# Append to dis_hpo_net\n",
    "full_net = pd.concat([dis_hpo_net, ontology])\n",
    "print(full_net)\n",
    "\n",
    "# Write to tsv\n",
    "full_net.to_csv(\"../network/multiplex/Orpha/Disease_PhenotypeOntology.tsv\", sep = '\\t', header=None, index=False)"
   ]
  },
  {
   "cell_type": "markdown",
   "id": "61d9ad9e",
   "metadata": {},
   "source": [
    "Store HPO ids and HPO terms correspondance in tsv file **`data/hpo_terms.tsv`**"
   ]
  },
  {
   "cell_type": "code",
   "execution_count": 60,
   "id": "4d196ab7",
   "metadata": {},
   "outputs": [],
   "source": [
    "id_to_name = {id_: data.get('name') for id_, data in graph.nodes(data=True)}\n",
    "\n",
    "hpo_file = open('../data/hpo_terms.tsv', 'w', newline='')\n",
    "hpo_writer = csv.writer(hpo_file, delimiter ='\\t')\n",
    "\n",
    "for hpo in id_to_name:\n",
    "    hpo_writer.writerow([hpo, id_to_name[hpo]])\n",
    "\n",
    "hpo_file.close()"
   ]
  },
  {
   "cell_type": "markdown",
   "id": "50afc729",
   "metadata": {},
   "source": [
    "## 3) Add Disease-Disease associations"
   ]
  },
  {
   "cell_type": "markdown",
   "id": "43449eb1",
   "metadata": {},
   "source": [
    "This code builds a disease-disease similarity network that connects Orphanet diseases if they share at least one common causative gene\n",
    "\n",
    "Data can be accessed here: https://www.orphadata.com/data/xml/en_product6.xml"
   ]
  },
  {
   "cell_type": "code",
   "execution_count": 61,
   "id": "1fd16653",
   "metadata": {},
   "outputs": [],
   "source": [
    "tree = ET.parse(\"../data/en_product6.xml\")\n",
    "root = tree.getroot()"
   ]
  },
  {
   "cell_type": "markdown",
   "id": "c224b5ed",
   "metadata": {},
   "source": [
    "The function bellow generates a dictionary containing causal genes for each disease in Orphanet. We store this information in `dico_diseases_genes`."
   ]
  },
  {
   "cell_type": "code",
   "execution_count": 62,
   "id": "bb31576d",
   "metadata": {},
   "outputs": [],
   "source": [
    "def generate_dico_diseases_genes(root) -> dict():\n",
    "    dico_diseases_genes = dict()\n",
    "    for disorder in root.iter('Disorder'):\n",
    "        orpha_code = \"ORPHA:\"+disorder.find('OrphaCode').text\n",
    "        dico_diseases_genes[orpha_code] = list()\n",
    "        for gda in disorder.iter('DisorderGeneAssociation'):\n",
    "                for gene in gda.iter('Gene'):\n",
    "                    dico_diseases_genes[orpha_code] += [gene.find('Symbol').text]\n",
    "    #print(dico_diseases_genes)\n",
    "    return dico_diseases_genes\n",
    "\n",
    "dico_diseases_genes = generate_dico_diseases_genes(root=root)"
   ]
  },
  {
   "cell_type": "markdown",
   "id": "2e39fbb6",
   "metadata": {},
   "source": [
    "The two functions bellow compare causal genes associated with each disease and create a dictionary of diseases sharing at least one causal gene. This information is stored in `dico_diseases_similarity`."
   ]
  },
  {
   "cell_type": "code",
   "execution_count": 63,
   "id": "479597ec",
   "metadata": {},
   "outputs": [],
   "source": [
    "def compare_two_gene_sets(gene_set_1: set, gene_set_2: set) -> bool():\n",
    "    return len(gene_set_1.intersection(gene_set_2)) > 0"
   ]
  },
  {
   "cell_type": "code",
   "execution_count": 64,
   "id": "2ffd13f9",
   "metadata": {},
   "outputs": [],
   "source": [
    "def compare_gene_sets_in_dict(dico_diseases_genes: dict) -> dict():\n",
    "    dico_diseases_similarity = dict()\n",
    "    diseases = list(dico_diseases_genes.keys())\n",
    "    for i in range(len(diseases)):\n",
    "        disease_1 = diseases[i]\n",
    "        dico_diseases_similarity[disease_1] = list()\n",
    "        for j in range(i + 1, len(diseases)):\n",
    "            disease_2 = diseases[j]\n",
    "            list_genes_1 = dico_diseases_genes[disease_1]\n",
    "            list_genes_2 = dico_diseases_genes[disease_2]\n",
    "            if compare_two_gene_sets(set(list_genes_1), set(list_genes_2)):\n",
    "                dico_diseases_similarity[disease_1] += [disease_2]\n",
    "    return dico_diseases_similarity\n",
    "\n",
    "dico_diseases_similarity = compare_gene_sets_in_dict(dico_diseases_genes=dico_diseases_genes)"
   ]
  },
  {
   "cell_type": "markdown",
   "id": "cf47866f",
   "metadata": {},
   "source": [
    "The function below creates the disease-disease network. We execute it and store the results in the variable `dis_dis_net`."
   ]
  },
  {
   "cell_type": "code",
   "execution_count": 65,
   "id": "8c2e99e8",
   "metadata": {
    "scrolled": true
   },
   "outputs": [
    {
     "name": "stdout",
     "output_type": "stream",
     "text": [
      "            source        target\n",
      "0     ORPHA:166024      ORPHA:36\n",
      "1     ORPHA:166024    ORPHA:2189\n",
      "2     ORPHA:166024    ORPHA:2754\n",
      "3     ORPHA:166063    ORPHA:2524\n",
      "4     ORPHA:166078  ORPHA:166084\n",
      "...            ...           ...\n",
      "7980  ORPHA:631076  ORPHA:641353\n",
      "7981  ORPHA:631106  ORPHA:619367\n",
      "7982  ORPHA:636970  ORPHA:636965\n",
      "7983  ORPHA:642976  ORPHA:642945\n",
      "7984  ORPHA:633021  ORPHA:633024\n",
      "\n",
      "[7985 rows x 2 columns]\n"
     ]
    }
   ],
   "source": [
    "def generate_disease_sim_network(dico_diseases_similarity: dict):\n",
    "    network = pd.DataFrame(columns=[\"source\", \"target\"])\n",
    "    associations = list()\n",
    "    index = 0\n",
    "    for disease in dico_diseases_similarity.keys():\n",
    "        for associated_diseases in dico_diseases_similarity[disease]:\n",
    "            if not (disease, associated_diseases) in associations or not (associated_diseases, disease) in associations:\n",
    "                network._set_value(index, \"source\", disease)\n",
    "                network._set_value(index, \"target\", associated_diseases)\n",
    "                associations.append((disease, associated_diseases))\n",
    "                index += 1\n",
    "    #network.to_csv(network_path, sep=\"\\t\", header=None, index=False)\n",
    "    return(network)\n",
    "\n",
    "dis_dis_net = generate_disease_sim_network(dico_diseases_similarity=dico_diseases_similarity)\n",
    "print(dis_dis_net)"
   ]
  },
  {
   "cell_type": "markdown",
   "id": "a9b816ed",
   "metadata": {},
   "source": [
    "Now we can load the previously computed Disease-HPO monoplex and add Disease-Disease associations to it. Store the results in file **`../network/multiplex/Orpha/DiseaseDisease_Phenotype.tsv`**."
   ]
  },
  {
   "cell_type": "code",
   "execution_count": 66,
   "id": "5524bc0d",
   "metadata": {
    "scrolled": true
   },
   "outputs": [
    {
     "data": {
      "text/html": [
       "<div>\n",
       "<style scoped>\n",
       "    .dataframe tbody tr th:only-of-type {\n",
       "        vertical-align: middle;\n",
       "    }\n",
       "\n",
       "    .dataframe tbody tr th {\n",
       "        vertical-align: top;\n",
       "    }\n",
       "\n",
       "    .dataframe thead th {\n",
       "        text-align: right;\n",
       "    }\n",
       "</style>\n",
       "<table border=\"1\" class=\"dataframe\">\n",
       "  <thead>\n",
       "    <tr style=\"text-align: right;\">\n",
       "      <th></th>\n",
       "      <th>0</th>\n",
       "      <th>1</th>\n",
       "      <th>2</th>\n",
       "    </tr>\n",
       "  </thead>\n",
       "  <tbody>\n",
       "    <tr>\n",
       "      <th>0</th>\n",
       "      <td>ORPHA:58</td>\n",
       "      <td>HP:0000256</td>\n",
       "      <td>0.8</td>\n",
       "    </tr>\n",
       "    <tr>\n",
       "      <th>1</th>\n",
       "      <td>ORPHA:58</td>\n",
       "      <td>HP:0001249</td>\n",
       "      <td>0.8</td>\n",
       "    </tr>\n",
       "    <tr>\n",
       "      <th>2</th>\n",
       "      <td>ORPHA:58</td>\n",
       "      <td>HP:0001250</td>\n",
       "      <td>0.8</td>\n",
       "    </tr>\n",
       "    <tr>\n",
       "      <th>3</th>\n",
       "      <td>ORPHA:58</td>\n",
       "      <td>HP:0001257</td>\n",
       "      <td>0.8</td>\n",
       "    </tr>\n",
       "    <tr>\n",
       "      <th>4</th>\n",
       "      <td>ORPHA:58</td>\n",
       "      <td>HP:0001274</td>\n",
       "      <td>0.8</td>\n",
       "    </tr>\n",
       "    <tr>\n",
       "      <th>...</th>\n",
       "      <td>...</td>\n",
       "      <td>...</td>\n",
       "      <td>...</td>\n",
       "    </tr>\n",
       "    <tr>\n",
       "      <th>111760</th>\n",
       "      <td>ORPHA:397596</td>\n",
       "      <td>HP:0011110</td>\n",
       "      <td>0.4</td>\n",
       "    </tr>\n",
       "    <tr>\n",
       "      <th>111761</th>\n",
       "      <td>ORPHA:397596</td>\n",
       "      <td>HP:0012758</td>\n",
       "      <td>0.4</td>\n",
       "    </tr>\n",
       "    <tr>\n",
       "      <th>111762</th>\n",
       "      <td>ORPHA:397596</td>\n",
       "      <td>HP:0031692</td>\n",
       "      <td>0.4</td>\n",
       "    </tr>\n",
       "    <tr>\n",
       "      <th>111763</th>\n",
       "      <td>ORPHA:397596</td>\n",
       "      <td>HP:0031693</td>\n",
       "      <td>0.4</td>\n",
       "    </tr>\n",
       "    <tr>\n",
       "      <th>111764</th>\n",
       "      <td>ORPHA:397596</td>\n",
       "      <td>HP:0032170</td>\n",
       "      <td>0.4</td>\n",
       "    </tr>\n",
       "  </tbody>\n",
       "</table>\n",
       "<p>111765 rows × 3 columns</p>\n",
       "</div>"
      ],
      "text/plain": [
       "                   0           1    2\n",
       "0           ORPHA:58  HP:0000256  0.8\n",
       "1           ORPHA:58  HP:0001249  0.8\n",
       "2           ORPHA:58  HP:0001250  0.8\n",
       "3           ORPHA:58  HP:0001257  0.8\n",
       "4           ORPHA:58  HP:0001274  0.8\n",
       "...              ...         ...  ...\n",
       "111760  ORPHA:397596  HP:0011110  0.4\n",
       "111761  ORPHA:397596  HP:0012758  0.4\n",
       "111762  ORPHA:397596  HP:0031692  0.4\n",
       "111763  ORPHA:397596  HP:0031693  0.4\n",
       "111764  ORPHA:397596  HP:0032170  0.4\n",
       "\n",
       "[111765 rows x 3 columns]"
      ]
     },
     "execution_count": 66,
     "metadata": {},
     "output_type": "execute_result"
    }
   ],
   "source": [
    "# Read previously computed Disease-HPO monoplex\n",
    "dis_hpo_net = pd.read_csv('../network/multiplex/Orpha/Disease_Phenotype.tsv', sep = '\\t', header=None)\n",
    "dis_hpo_net"
   ]
  },
  {
   "cell_type": "code",
   "execution_count": 67,
   "id": "88c9fa48",
   "metadata": {},
   "outputs": [
    {
     "name": "stdout",
     "output_type": "stream",
     "text": [
      "                 0             1    2\n",
      "0         ORPHA:58    HP:0000256  0.8\n",
      "1         ORPHA:58    HP:0001249  0.8\n",
      "2         ORPHA:58    HP:0001250  0.8\n",
      "3         ORPHA:58    HP:0001257  0.8\n",
      "4         ORPHA:58    HP:0001274  0.8\n",
      "...            ...           ...  ...\n",
      "7980  ORPHA:631076  ORPHA:641353  1.0\n",
      "7981  ORPHA:631106  ORPHA:619367  1.0\n",
      "7982  ORPHA:636970  ORPHA:636965  1.0\n",
      "7983  ORPHA:642976  ORPHA:642945  1.0\n",
      "7984  ORPHA:633021  ORPHA:633024  1.0\n",
      "\n",
      "[119750 rows x 3 columns]\n"
     ]
    }
   ],
   "source": [
    "# Set weight 1 for all disease-disease associations and change colnames of dis_dis_net so that it match dis_hpo_net\n",
    "dis_dis_net['weight'] = 1\n",
    "dis_dis_net.rename(columns={'source': 0, 'target': 1, 'weight': 2}, inplace=True)\n",
    "\n",
    "# Append to disease-disease associations to dis_hpo_net\n",
    "full_net = pd.concat([dis_hpo_net, dis_dis_net])\n",
    "print(full_net)\n",
    "\n",
    "# Write to tsv\n",
    "full_net.to_csv(\"../network/multiplex/Orpha/DiseaseDisease_Phenotype.tsv\", sep = '\\t', header=None, index=False)"
   ]
  },
  {
   "cell_type": "markdown",
   "id": "24f09041",
   "metadata": {},
   "source": [
    "We do the same to create the Disease-Disease, Disease-Pĥenotype, Phenotype-Phenotype network that we store in **`../network/multiplex/Orpha/DiseaseDisease_PhenotypeOntology.tsv`**."
   ]
  },
  {
   "cell_type": "code",
   "execution_count": 68,
   "id": "75ecdc33",
   "metadata": {},
   "outputs": [
    {
     "data": {
      "text/html": [
       "<div>\n",
       "<style scoped>\n",
       "    .dataframe tbody tr th:only-of-type {\n",
       "        vertical-align: middle;\n",
       "    }\n",
       "\n",
       "    .dataframe tbody tr th {\n",
       "        vertical-align: top;\n",
       "    }\n",
       "\n",
       "    .dataframe thead th {\n",
       "        text-align: right;\n",
       "    }\n",
       "</style>\n",
       "<table border=\"1\" class=\"dataframe\">\n",
       "  <thead>\n",
       "    <tr style=\"text-align: right;\">\n",
       "      <th></th>\n",
       "      <th>0</th>\n",
       "      <th>1</th>\n",
       "      <th>2</th>\n",
       "    </tr>\n",
       "  </thead>\n",
       "  <tbody>\n",
       "    <tr>\n",
       "      <th>0</th>\n",
       "      <td>ORPHA:58</td>\n",
       "      <td>HP:0000256</td>\n",
       "      <td>0.8</td>\n",
       "    </tr>\n",
       "    <tr>\n",
       "      <th>1</th>\n",
       "      <td>ORPHA:58</td>\n",
       "      <td>HP:0001249</td>\n",
       "      <td>0.8</td>\n",
       "    </tr>\n",
       "    <tr>\n",
       "      <th>2</th>\n",
       "      <td>ORPHA:58</td>\n",
       "      <td>HP:0001250</td>\n",
       "      <td>0.8</td>\n",
       "    </tr>\n",
       "    <tr>\n",
       "      <th>3</th>\n",
       "      <td>ORPHA:58</td>\n",
       "      <td>HP:0001257</td>\n",
       "      <td>0.8</td>\n",
       "    </tr>\n",
       "    <tr>\n",
       "      <th>4</th>\n",
       "      <td>ORPHA:58</td>\n",
       "      <td>HP:0001274</td>\n",
       "      <td>0.8</td>\n",
       "    </tr>\n",
       "    <tr>\n",
       "      <th>...</th>\n",
       "      <td>...</td>\n",
       "      <td>...</td>\n",
       "      <td>...</td>\n",
       "    </tr>\n",
       "    <tr>\n",
       "      <th>133316</th>\n",
       "      <td>HP:5201010</td>\n",
       "      <td>HP:0000204</td>\n",
       "      <td>1.0</td>\n",
       "    </tr>\n",
       "    <tr>\n",
       "      <th>133317</th>\n",
       "      <td>HP:5201011</td>\n",
       "      <td>HP:0100336</td>\n",
       "      <td>1.0</td>\n",
       "    </tr>\n",
       "    <tr>\n",
       "      <th>133318</th>\n",
       "      <td>HP:5201012</td>\n",
       "      <td>HP:0100336</td>\n",
       "      <td>1.0</td>\n",
       "    </tr>\n",
       "    <tr>\n",
       "      <th>133319</th>\n",
       "      <td>HP:5201013</td>\n",
       "      <td>HP:0100336</td>\n",
       "      <td>1.0</td>\n",
       "    </tr>\n",
       "    <tr>\n",
       "      <th>133320</th>\n",
       "      <td>HP:5201014</td>\n",
       "      <td>HP:0100336</td>\n",
       "      <td>1.0</td>\n",
       "    </tr>\n",
       "  </tbody>\n",
       "</table>\n",
       "<p>133321 rows × 3 columns</p>\n",
       "</div>"
      ],
      "text/plain": [
       "                 0           1    2\n",
       "0         ORPHA:58  HP:0000256  0.8\n",
       "1         ORPHA:58  HP:0001249  0.8\n",
       "2         ORPHA:58  HP:0001250  0.8\n",
       "3         ORPHA:58  HP:0001257  0.8\n",
       "4         ORPHA:58  HP:0001274  0.8\n",
       "...            ...         ...  ...\n",
       "133316  HP:5201010  HP:0000204  1.0\n",
       "133317  HP:5201011  HP:0100336  1.0\n",
       "133318  HP:5201012  HP:0100336  1.0\n",
       "133319  HP:5201013  HP:0100336  1.0\n",
       "133320  HP:5201014  HP:0100336  1.0\n",
       "\n",
       "[133321 rows x 3 columns]"
      ]
     },
     "execution_count": 68,
     "metadata": {},
     "output_type": "execute_result"
    }
   ],
   "source": [
    "# Read previously computed Disease-HPOntology monoplex\n",
    "dis_hpo_net = pd.read_csv('../network/multiplex/Orpha/Disease_PhenotypeOntology.tsv', sep = '\\t', header=None)\n",
    "dis_hpo_net"
   ]
  },
  {
   "cell_type": "code",
   "execution_count": 69,
   "id": "af7b51bb",
   "metadata": {},
   "outputs": [
    {
     "name": "stdout",
     "output_type": "stream",
     "text": [
      "                 0             1    2\n",
      "0         ORPHA:58    HP:0000256  0.8\n",
      "1         ORPHA:58    HP:0001249  0.8\n",
      "2         ORPHA:58    HP:0001250  0.8\n",
      "3         ORPHA:58    HP:0001257  0.8\n",
      "4         ORPHA:58    HP:0001274  0.8\n",
      "...            ...           ...  ...\n",
      "7980  ORPHA:631076  ORPHA:641353  1.0\n",
      "7981  ORPHA:631106  ORPHA:619367  1.0\n",
      "7982  ORPHA:636970  ORPHA:636965  1.0\n",
      "7983  ORPHA:642976  ORPHA:642945  1.0\n",
      "7984  ORPHA:633021  ORPHA:633024  1.0\n",
      "\n",
      "[141306 rows x 3 columns]\n"
     ]
    }
   ],
   "source": [
    "# Append to disease-disease associations to dis_hpo_net\n",
    "full_net = pd.concat([dis_hpo_net, dis_dis_net])\n",
    "print(full_net)\n",
    "\n",
    "# Write to tsv\n",
    "full_net.to_csv(\"../network/multiplex/Orpha/DiseaseDisease_PhenotypeOntology.tsv\", sep = '\\t', header=None, index=False)"
   ]
  },
  {
   "cell_type": "code",
   "execution_count": null,
   "id": "de6f51d9",
   "metadata": {},
   "outputs": [],
   "source": []
  }
 ],
 "metadata": {
  "kernelspec": {
   "display_name": "Python 3 (ipykernel)",
   "language": "python",
   "name": "python3"
  },
  "language_info": {
   "codemirror_mode": {
    "name": "ipython",
    "version": 3
   },
   "file_extension": ".py",
   "mimetype": "text/x-python",
   "name": "python",
   "nbconvert_exporter": "python",
   "pygments_lexer": "ipython3",
   "version": "3.10.9"
  }
 },
 "nbformat": 4,
 "nbformat_minor": 5
}
