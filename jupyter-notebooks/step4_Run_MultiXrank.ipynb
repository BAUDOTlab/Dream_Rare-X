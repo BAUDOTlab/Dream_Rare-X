{
 "cells": [
  {
   "cell_type": "markdown",
   "metadata": {},
   "source": [
    "# Random Walk with Restart using MultiXrank\n",
    "\n",
    "This code runs MultiXrank (https://github.com/anthbapt/multixrank ; https://multixrank-doc.readthedocs.io/en/latest/) on a multilayer network composed of 2 layers:\n",
    "- Rare-X disease-patient-symtom associations layer\n",
    "- Orphanet disease-phenotype associations layer\n",
    "\n",
    "The mapping of Rare-X diseases and Orphanet diseases is used as a bipartite network connecting the Rare-X and Orphanet layers.\n",
    "\n",
    "We use iteratively the **27 diseases from the Rare-X layer as seeds** for the Random Walk with Restart (RWR) analysis. Doing so, we are able to **score all nodes** from the multilayer network. These scores represent a **proximity** between the seed node and the other nodes of the network.\n",
    "\n",
    "For each RWR analysis, two files results are created: one for the Rare-X layer and one other for the Orphanet layer. They contain a score for each node presented in the layer. \n",
    "\n",
    "The output scores for each seed are stored in folder `results_MultiXrank/output/`."
   ]
  },
  {
   "cell_type": "code",
   "execution_count": 1,
   "metadata": {},
   "outputs": [],
   "source": [
    "import multixrank\n",
    "import pandas as pd\n",
    "import glob\n",
    "import os"
   ]
  },
  {
   "cell_type": "code",
   "execution_count": 2,
   "metadata": {},
   "outputs": [],
   "source": [
    "# Location of files containing the Rare-X and Orphanet layers\n",
    "layer_1 = ['../network/multiplex/RareX_layer/RareX_layer.tsv']\n",
    "layer_2 = ['../network/multiplex/Orphanet_layer/Orphanet_layer.tsv']\n",
    "# Location of file containing the bipartite network\n",
    "bipartite = ['../network/bipartite/bipartite_RareX_Orpha_diseases.tsv']\n",
    "\n",
    "# Configuration and seed files location\n",
    "outconfig = 'config_files'\n",
    "outseed = 'seed_files'\n",
    "# Results location\n",
    "outdir = 'output'"
   ]
  },
  {
   "cell_type": "markdown",
   "metadata": {},
   "source": [
    "To run MultiXrank, we need **seeds**. In our case, the seeds are the diseases contained in the Rare-X layer, that is 27 different diseases. MultiXrank will be run for each Rare-X disease taken as a seed. Below, we create the seed files that will be used in MultiXrank. These will be stored in folder `results_MultiXrank/seed_files`."
   ]
  },
  {
   "cell_type": "code",
   "execution_count": 3,
   "metadata": {},
   "outputs": [],
   "source": [
    "def create_seeds_file(diseases_names_files: str, path_to_seeds_files: str) -> int:\n",
    "    \"\"\"Function that generates the seeds files used in MultiXrank\n",
    "\n",
    "    Args:\n",
    "        diseases_names_files (str): path to the file that recapitulates the diseases\n",
    "        found in the Rare-X layer\n",
    "        path_to_seeds_files (str): path to the seeds files to generate\n",
    "    \"\"\"\n",
    "    # create the directory to store the seeds files\n",
    "    os.makedirs(path_to_seeds_files, exist_ok=True)\n",
    "    # extract diseases used as seeds = the 27 diseases in the RARE-X network\n",
    "    diseases = pd.read_csv(diseases_names_files, sep=\";\", header=0)\n",
    "    i = 0\n",
    "    j = 1\n",
    "    for index, row in diseases.iterrows():\n",
    "        seeds_file= path_to_seeds_files + \"/\" + f\"seeds_{j}.txt\"\n",
    "        seeds = pd.DataFrame(columns=[\"seed\"])\n",
    "        if row[1] == \"None\":\n",
    "            seeds._set_value(i, \"seed\", row[0])\n",
    "        else:\n",
    "            seeds._set_value(i, \"seed\", row[1])\n",
    "        seeds.to_csv(seeds_file, sep=\"\\t\", header=None, index=False)\n",
    "        i += 1\n",
    "        j += 1\n",
    "    return(j)\n",
    "\n",
    "seedNb = create_seeds_file(diseases_names_files=\"../data/Diseases_Rx_orpha_corres.csv\",\n",
    "                           path_to_seeds_files=f\"../results_MultiXrank/{outseed}/\")"
   ]
  },
  {
   "cell_type": "markdown",
   "metadata": {},
   "source": [
    "We also need configuration files, which contains the parameters to use when running MultiXrank. We store these in folder `/results_MultiXrank/config_files`."
   ]
  },
  {
   "cell_type": "code",
   "execution_count": 4,
   "metadata": {},
   "outputs": [],
   "source": [
    "def create_config_files(path_to_config_files: str, path_to_seed_files: str, layers_1: list, layers_2: list) -> None:\n",
    "    \"\"\"Function that generates the configurations files required to run MultiXrank\n",
    "\n",
    "    Args:\n",
    "        path_to_config_files (str): path to the folder where configuration files will be stored\n",
    "        path_to_seed_files (str): path to the folder where seeds files are stored\n",
    "        layers_1 (list): path to the layer 1\n",
    "        layers_2 (list): path to the layer 2\n",
    "    \"\"\"\n",
    "    os.makedirs(path_to_config_files, exist_ok=True)\n",
    "    size = 1\n",
    "    for i in range(1, seedNb):\n",
    "        file = open(path_to_config_files + f'/config_{i}.yml', 'w')\n",
    "        r = 0.7\n",
    "        delta = 0\n",
    "        eta = [1, 0]\n",
    "        tau = [1]\n",
    "\n",
    "        file.write('seed:' + ' ' + path_to_seed_files + f'/seeds_{i}.txt' + '\\n')\n",
    "        file.write('self_loops: 0' + '\\n')\n",
    "        file.write('r: ' + str(r) + '\\n')\n",
    "        temp = '{},'*size\n",
    "        part = '[' + temp.rstrip(',') +']'\n",
    "        file.write('eta: ' + str(eta) + '\\n')\n",
    "        file.write('lamb:' + '\\n')\n",
    "        file.write('    ' + '-' +  ' ' + '[' + str(1/2) + ',' + str(1/2) + ']' + '\\n')\n",
    "        file.write('    ' + '-' +  ' ' + '[' + str(1/2) + ',' + str(1/2) + ']' + '\\n')\n",
    "        file.write('multiplex:' + '\\n')\n",
    "        \n",
    "        file.write('    ' + 'RareX_layer' + ':' + '\\n' + '        ' + \\\n",
    "                        'layers:' + '\\n' + '            ')\n",
    "        file.write('-' +  ' ' + layers_1[0] + '\\n' + '        ')\n",
    "        \n",
    "        file.write('delta: {}'.format(str(delta)) + '\\n' + '        ' )\n",
    "        file.write('graph_type: ' + '[' + ('01, '*size).rstrip(', ') + ']' + '\\n' + '        ' )\n",
    "        file.write('tau: ' + str(tau) + '\\n')\n",
    "        \n",
    "        file.write('    ' + 'Orphanet_layer' + ':' + '\\n' + '        ' + \\\n",
    "                        'layers:' + '\\n' + '            ')\n",
    "        file.write('-' + ' ' + layers_2[0] + '\\n' + '        ')\n",
    "        file.write('delta: {}'.format(str(delta)) + '\\n' + '        ' )\n",
    "        file.write('graph_type: ' + '[' + ('01, '*size).rstrip(', ') + ']' + '\\n' + '        ' )\n",
    "        file.write('tau: ' + str(tau) + '\\n')\n",
    "\n",
    "        file.write('bipartite:' + '\\n')\n",
    "        file.write(\"    \" +  bipartite[0] + \": {'source': 'RareX_layer', 'target': 'Orphanet_layer', graph_type: 00}\" + '\\n')\n",
    "        file.close\n",
    "\n",
    "create_config_files(path_to_config_files=f\"../results_MultiXrank/{outconfig}\",\n",
    "                    path_to_seed_files=f\"{outseed}\",\n",
    "                    layers_1=layer_1, layers_2=layer_2)"
   ]
  },
  {
   "cell_type": "markdown",
   "metadata": {},
   "source": [
    "Now that we have seed files and configuration files, we can run MultiXrank. The results are stored in folder **`results_MultiXrank/output`**."
   ]
  },
  {
   "cell_type": "code",
   "execution_count": 5,
   "metadata": {
    "scrolled": true
   },
   "outputs": [],
   "source": [
    "for i in range(1, seedNb):\n",
    "    multixrank_obj = multixrank.Multixrank(config=f\"../results_MultiXrank/{outconfig}/config_{i}.yml\",\n",
    "                                           wdir=\"../results_MultiXrank/\")\n",
    "    ranking_df = multixrank_obj.random_walk_rank()\n",
    "    os.makedirs(f\"../results_MultiXrank/{outdir}/output_{i}\", exist_ok=True)\n",
    "    multixrank_obj.write_ranking(ranking_df, path=f\"../results_MultiXrank/{outdir}/output_{i}/\")"
   ]
  }
 ],
 "metadata": {
  "kernelspec": {
   "display_name": "Python 3 (ipykernel)",
   "language": "python",
   "name": "python3"
  },
  "language_info": {
   "codemirror_mode": {
    "name": "ipython",
    "version": 3
   },
   "file_extension": ".py",
   "mimetype": "text/x-python",
   "name": "python",
   "nbconvert_exporter": "python",
   "pygments_lexer": "ipython3",
   "version": "3.10.9"
  }
 },
 "nbformat": 4,
 "nbformat_minor": 2
}
