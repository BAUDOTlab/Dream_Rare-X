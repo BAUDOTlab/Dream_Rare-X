{
 "cells": [
  {
   "cell_type": "markdown",
   "id": "ca60b192",
   "metadata": {},
   "source": [
    "# Build the Orphanet/HPO layer"
   ]
  },
  {
   "cell_type": "markdown",
   "id": "997f4b2a",
   "metadata": {},
   "source": [
    "The following code extract Disease-Phenotype associations from Orphanet and creates two networks:\n",
    "* a monoplex network with disease-phenotype associations: **`network/multiplex/Orpha/Disease_Phenotype.tsv`**\n",
    "* a monoplex network with disease-phenotype and phenotype-phenotype associations: **`network/multiplex/Orpha/Disease_PhenotypeOntology.tsv`**\n",
    "\n",
    "All ids are explicited in files:\n",
    "* **`data/OrphaDisease_HPO_extract.tsv`** contains OrphaCode, disease name, HPO ids and HPO terms \n",
    "* **`data/hpo_terms.tsv`** contains all HPO ids and terms\n"
   ]
  },
  {
   "cell_type": "markdown",
   "id": "00784a14",
   "metadata": {},
   "source": [
    "## 1) Build disease-phenotype network from Orphanet Data"
   ]
  },
  {
   "cell_type": "markdown",
   "id": "19a3b2d0",
   "metadata": {},
   "source": [
    "To get data from Orphanet: https://www.orphadata.com/data/xml/en_product4.xml"
   ]
  },
  {
   "cell_type": "code",
   "execution_count": 1,
   "id": "5ce4c602",
   "metadata": {},
   "outputs": [],
   "source": [
    "import xml.etree.ElementTree as ET\n",
    "import csv"
   ]
  },
  {
   "cell_type": "code",
   "execution_count": 2,
   "id": "8a21c4bb",
   "metadata": {},
   "outputs": [],
   "source": [
    "tree = ET.parse(\"../data/en_product4.xml\")\n",
    "root = tree.getroot()"
   ]
  },
  {
   "cell_type": "code",
   "execution_count": 3,
   "id": "4bc1307c",
   "metadata": {},
   "outputs": [],
   "source": [
    "# Create TSV file to store the extracted data\n",
    "info_file = open('../data/OrphaDisease_HPO_extract.tsv', 'w', newline='')\n",
    "info_writer = csv.writer(info_file, delimiter ='\\t')\n",
    "\n",
    "# Create the network file for MultiXrank\n",
    "net_file = open('../network/multiplex/Orpha/Disease_Phenotype.tsv', 'w', newline='')\n",
    "net_writer = csv.writer(net_file, delimiter ='\\t')\n",
    "\n",
    "# Iterate over disorders and HPOs\n",
    "for disorder in root.iter('Disorder'):\n",
    "    orpha_code = \"ORPHA:\"+disorder.find('OrphaCode').text\n",
    "    orpha_name = disorder.find('Name').text\n",
    "    for hpo in disorder.iter(\"HPO\"):\n",
    "        hpo_id = hpo.find(\"HPOId\").text\n",
    "        hpo_term = hpo.find(\"HPOTerm\").text\n",
    "        info_writer.writerow([orpha_code, orpha_name, hpo_id, hpo_term])\n",
    "        net_writer.writerow([orpha_code, hpo_id])\n",
    "\n",
    "# Close files\n",
    "info_file.close()\n",
    "net_file.close()"
   ]
  },
  {
   "cell_type": "markdown",
   "id": "bc247d57",
   "metadata": {},
   "source": [
    "## 2) Add HP ontology"
   ]
  },
  {
   "cell_type": "markdown",
   "id": "598cf84c",
   "metadata": {},
   "source": [
    "Create a new tsv file containing previously extracted Disease-HPO associations AND the full HP ontology."
   ]
  },
  {
   "cell_type": "markdown",
   "id": "9ff9ccd6",
   "metadata": {},
   "source": [
    "Download HPO data in obo format from https://hpo.jax.org/app/data/ontology"
   ]
  },
  {
   "cell_type": "code",
   "execution_count": 4,
   "id": "5c379222",
   "metadata": {},
   "outputs": [],
   "source": [
    "import obonet\n",
    "import networkx\n",
    "import pandas as pd"
   ]
  },
  {
   "cell_type": "code",
   "execution_count": 5,
   "id": "51e344cc",
   "metadata": {
    "scrolled": true
   },
   "outputs": [
    {
     "data": {
      "text/html": [
       "<div>\n",
       "<style scoped>\n",
       "    .dataframe tbody tr th:only-of-type {\n",
       "        vertical-align: middle;\n",
       "    }\n",
       "\n",
       "    .dataframe tbody tr th {\n",
       "        vertical-align: top;\n",
       "    }\n",
       "\n",
       "    .dataframe thead th {\n",
       "        text-align: right;\n",
       "    }\n",
       "</style>\n",
       "<table border=\"1\" class=\"dataframe\">\n",
       "  <thead>\n",
       "    <tr style=\"text-align: right;\">\n",
       "      <th></th>\n",
       "      <th>0</th>\n",
       "      <th>1</th>\n",
       "    </tr>\n",
       "  </thead>\n",
       "  <tbody>\n",
       "    <tr>\n",
       "      <th>0</th>\n",
       "      <td>ORPHA:58</td>\n",
       "      <td>HP:0000256</td>\n",
       "    </tr>\n",
       "    <tr>\n",
       "      <th>1</th>\n",
       "      <td>ORPHA:58</td>\n",
       "      <td>HP:0001249</td>\n",
       "    </tr>\n",
       "    <tr>\n",
       "      <th>2</th>\n",
       "      <td>ORPHA:58</td>\n",
       "      <td>HP:0001250</td>\n",
       "    </tr>\n",
       "    <tr>\n",
       "      <th>3</th>\n",
       "      <td>ORPHA:58</td>\n",
       "      <td>HP:0001257</td>\n",
       "    </tr>\n",
       "    <tr>\n",
       "      <th>4</th>\n",
       "      <td>ORPHA:58</td>\n",
       "      <td>HP:0001274</td>\n",
       "    </tr>\n",
       "    <tr>\n",
       "      <th>...</th>\n",
       "      <td>...</td>\n",
       "      <td>...</td>\n",
       "    </tr>\n",
       "    <tr>\n",
       "      <th>111760</th>\n",
       "      <td>ORPHA:397596</td>\n",
       "      <td>HP:0011110</td>\n",
       "    </tr>\n",
       "    <tr>\n",
       "      <th>111761</th>\n",
       "      <td>ORPHA:397596</td>\n",
       "      <td>HP:0012758</td>\n",
       "    </tr>\n",
       "    <tr>\n",
       "      <th>111762</th>\n",
       "      <td>ORPHA:397596</td>\n",
       "      <td>HP:0031692</td>\n",
       "    </tr>\n",
       "    <tr>\n",
       "      <th>111763</th>\n",
       "      <td>ORPHA:397596</td>\n",
       "      <td>HP:0031693</td>\n",
       "    </tr>\n",
       "    <tr>\n",
       "      <th>111764</th>\n",
       "      <td>ORPHA:397596</td>\n",
       "      <td>HP:0032170</td>\n",
       "    </tr>\n",
       "  </tbody>\n",
       "</table>\n",
       "<p>111765 rows × 2 columns</p>\n",
       "</div>"
      ],
      "text/plain": [
       "                   0           1\n",
       "0           ORPHA:58  HP:0000256\n",
       "1           ORPHA:58  HP:0001249\n",
       "2           ORPHA:58  HP:0001250\n",
       "3           ORPHA:58  HP:0001257\n",
       "4           ORPHA:58  HP:0001274\n",
       "...              ...         ...\n",
       "111760  ORPHA:397596  HP:0011110\n",
       "111761  ORPHA:397596  HP:0012758\n",
       "111762  ORPHA:397596  HP:0031692\n",
       "111763  ORPHA:397596  HP:0031693\n",
       "111764  ORPHA:397596  HP:0032170\n",
       "\n",
       "[111765 rows x 2 columns]"
      ]
     },
     "execution_count": 5,
     "metadata": {},
     "output_type": "execute_result"
    }
   ],
   "source": [
    "# Read previously computed Disease-HPO monoplex\n",
    "dis_hpo_net = pd.read_csv('../network/multiplex/Orpha/Disease_Phenotype.tsv', sep = '\\t', header=None)\n",
    "dis_hpo_net"
   ]
  },
  {
   "cell_type": "markdown",
   "id": "4b6d7735",
   "metadata": {},
   "source": [
    "Load the HPO ontology, append it to `dis_hpo_net`, and store in **`network/multiplex/Orpha/Disease_PhenotypeOntology.tsv`**"
   ]
  },
  {
   "cell_type": "code",
   "execution_count": 6,
   "id": "e5c5c57b",
   "metadata": {},
   "outputs": [],
   "source": [
    "# Read obo file\n",
    "graph = obonet.read_obo(\"../data/hp.obo\")\n",
    "\n",
    "# Extract edges\n",
    "ontology = networkx.to_pandas_edgelist(graph)\n",
    "ontology.columns = [0,1]\n",
    "\n",
    "# Append to dis_hpo_net\n",
    "full_net = pd.concat([dis_hpo_net, ontology])\n",
    "full_net\n",
    "\n",
    "# Write to tsv\n",
    "full_net.to_csv(\"../network/multiplex/Orpha/Disease_PhenotypeOntology.tsv\", sep = '\\t', header=None, index=False)"
   ]
  },
  {
   "cell_type": "markdown",
   "id": "61d9ad9e",
   "metadata": {},
   "source": [
    "Store HPO ids and HPO terms correspondance in tsv file **`data/hpo_terms.tsv`**"
   ]
  },
  {
   "cell_type": "code",
   "execution_count": 7,
   "id": "4d196ab7",
   "metadata": {},
   "outputs": [],
   "source": [
    "id_to_name = {id_: data.get('name') for id_, data in graph.nodes(data=True)}\n",
    "\n",
    "hpo_file = open('../data/hpo_terms.tsv', 'w', newline='')\n",
    "hpo_writer = csv.writer(hpo_file, delimiter ='\\t')\n",
    "\n",
    "for hpo in id_to_name:\n",
    "    hpo_writer.writerow([hpo, id_to_name[hpo]])\n",
    "\n",
    "hpo_file.close()"
   ]
  }
 ],
 "metadata": {
  "kernelspec": {
   "display_name": "Python 3 (ipykernel)",
   "language": "python",
   "name": "python3"
  },
  "language_info": {
   "codemirror_mode": {
    "name": "ipython",
    "version": 3
   },
   "file_extension": ".py",
   "mimetype": "text/x-python",
   "name": "python",
   "nbconvert_exporter": "python",
   "pygments_lexer": "ipython3",
   "version": "3.10.9"
  }
 },
 "nbformat": 4,
 "nbformat_minor": 5
}
