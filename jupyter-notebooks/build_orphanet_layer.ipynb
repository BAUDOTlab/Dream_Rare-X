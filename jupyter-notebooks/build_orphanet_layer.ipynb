{
 "cells": [
  {
   "cell_type": "markdown",
   "id": "00784a14",
   "metadata": {},
   "source": [
    "# Build disease-phenotype network from Orphanet Data"
   ]
  },
  {
   "cell_type": "markdown",
   "id": "19a3b2d0",
   "metadata": {},
   "source": [
    "To get data from Orphanet: https://www.orphadata.com/data/xml/en_product4.xml"
   ]
  },
  {
   "cell_type": "markdown",
   "id": "997f4b2a",
   "metadata": {},
   "source": [
    "The following code extract Disease-Phenotype associations from Orphanet and creates:\n",
    "* an association file containing OrphaCode, disease name, HPO ids and HPO terms in file **`data/OrphaDisease_HPO_extract.tsv`**\n",
    "* a multiplex network with OrphaCode and HPO ids in file **`network/multiplex/Orpha/OrphaDisease_HPO.tsv`**"
   ]
  },
  {
   "cell_type": "code",
   "execution_count": 46,
   "id": "5ce4c602",
   "metadata": {},
   "outputs": [],
   "source": [
    "import xml.etree.ElementTree as ET\n",
    "import csv"
   ]
  },
  {
   "cell_type": "code",
   "execution_count": 47,
   "id": "8a21c4bb",
   "metadata": {},
   "outputs": [],
   "source": [
    "tree = ET.parse(\"../data/en_product4.xml\")\n",
    "root = tree.getroot()"
   ]
  },
  {
   "cell_type": "code",
   "execution_count": 48,
   "id": "4bc1307c",
   "metadata": {},
   "outputs": [],
   "source": [
    "# Create TSV file to store the extracted data\n",
    "info_file = open('../data/OrphaDisease_HPO_extract.tsv', 'w', newline='')\n",
    "info_writer = csv.writer(info_file, delimiter ='\\t')\n",
    "\n",
    "# Create the network file for MultiXrank\n",
    "net_file = open('../network/multiplex/Orpha/OrphaDisease_HPO.tsv', 'w', newline='')\n",
    "net_writer = csv.writer(net_file, delimiter ='\\t')\n",
    "\n",
    "# Iterate over disorders and HPOs\n",
    "for disorder in root.iter('Disorder'):\n",
    "    orpha_code = \"ORPHA:\"+disorder.find('OrphaCode').text\n",
    "    orpha_name = disorder.find('Name').text\n",
    "    for hpo in disorder.iter(\"HPO\"):\n",
    "        hpo_id = hpo.find(\"HPOId\").text\n",
    "        hpo_term = hpo.find(\"HPOTerm\").text\n",
    "        info_writer.writerow([orpha_code, orpha_name, hpo_id, hpo_term])\n",
    "        net_writer.writerow([orpha_code, hpo_id])\n",
    "\n",
    "# Close files\n",
    "info_file.close()\n",
    "net_file.close()"
   ]
  }
 ],
 "metadata": {
  "kernelspec": {
   "display_name": "Python 3 (ipykernel)",
   "language": "python",
   "name": "python3"
  },
  "language_info": {
   "codemirror_mode": {
    "name": "ipython",
    "version": 3
   },
   "file_extension": ".py",
   "mimetype": "text/x-python",
   "name": "python",
   "nbconvert_exporter": "python",
   "pygments_lexer": "ipython3",
   "version": "3.10.9"
  }
 },
 "nbformat": 4,
 "nbformat_minor": 5
}
